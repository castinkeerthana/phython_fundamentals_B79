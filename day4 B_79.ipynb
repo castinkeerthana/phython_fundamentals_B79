{
 "cells": [
  {
   "cell_type": "code",
   "execution_count": null,
   "id": "2ecd7fa9",
   "metadata": {},
   "outputs": [],
   "source": [
    "List datatype:"
   ]
  },
  {
   "cell_type": "code",
   "execution_count": 2,
   "id": "86ac69c0",
   "metadata": {},
   "outputs": [
    {
     "name": "stdout",
     "output_type": "stream",
     "text": [
      "['kani', 'tami', 'vinoth', 'keerthi', 'pooja', 'kavi']\n"
     ]
    }
   ],
   "source": [
    "students=['kani','tami','vinoth','keerthi','pooja','kavi']\n",
    "print(students)"
   ]
  },
  {
   "cell_type": "code",
   "execution_count": 15,
   "id": "949f7bde",
   "metadata": {},
   "outputs": [
    {
     "name": "stdout",
     "output_type": "stream",
     "text": [
      "tami\n"
     ]
    }
   ],
   "source": [
    "students=['kani','tami','vinoth','keerthi','pooja','kavi']\n",
    "print(students[1])"
   ]
  },
  {
   "cell_type": "code",
   "execution_count": 16,
   "id": "0127bb3b",
   "metadata": {},
   "outputs": [
    {
     "name": "stdout",
     "output_type": "stream",
     "text": [
      "TAMI\n"
     ]
    }
   ],
   "source": [
    "students=['kani','tami','vinoth','keerthi','pooja','kavi']\n",
    "print(students[1].upper())"
   ]
  },
  {
   "cell_type": "code",
   "execution_count": null,
   "id": "3402a330",
   "metadata": {},
   "outputs": [],
   "source": [
    "to add/insert:"
   ]
  },
  {
   "cell_type": "code",
   "execution_count": 29,
   "id": "fdf7517f",
   "metadata": {},
   "outputs": [
    {
     "name": "stdout",
     "output_type": "stream",
     "text": [
      "['kani', 'tami', 'vinoth', 'keerthi', 'pooja', 'kavi']\n"
     ]
    }
   ],
   "source": [
    "students=['kani','tami','vinoth','keerthi','pooja','kavi']\n",
    "print(students)\n"
   ]
  },
  {
   "cell_type": "code",
   "execution_count": 31,
   "id": "ce5df484",
   "metadata": {},
   "outputs": [
    {
     "name": "stdout",
     "output_type": "stream",
     "text": [
      "['kani', 'tami', 'vinoth', 'keerthi', 'pooja', 'kavi', 'kunal']\n"
     ]
    }
   ],
   "source": [
    "students.append('kunal')\n",
    "print(students)"
   ]
  },
  {
   "cell_type": "code",
   "execution_count": 35,
   "id": "70b803a1",
   "metadata": {},
   "outputs": [
    {
     "name": "stdout",
     "output_type": "stream",
     "text": [
      "['kani', 'tami', 'kavitha', 'vinoth', 'keerthi', 'pooja', 'kavi', 'kunal']\n"
     ]
    }
   ],
   "source": [
    "students.insert(2,'kavitha')\n",
    "print(students)"
   ]
  },
  {
   "cell_type": "code",
   "execution_count": null,
   "id": "171e25df",
   "metadata": {},
   "outputs": [],
   "source": [
    "to edit/alter:"
   ]
  },
  {
   "cell_type": "code",
   "execution_count": 36,
   "id": "7b5480f6",
   "metadata": {},
   "outputs": [
    {
     "name": "stdout",
     "output_type": "stream",
     "text": [
      "['kani', 'tami', 'kavitha', 'vinoth', 'keerthi', 'pooja', 'kavi', 'kunal']\n"
     ]
    }
   ],
   "source": [
    "students=['kani', 'tami', 'kavitha', 'vinoth', 'keerthi', 'pooja', 'kavi', 'kunal']\n",
    "print(students)"
   ]
  },
  {
   "cell_type": "code",
   "execution_count": 37,
   "id": "2d2ca10e",
   "metadata": {},
   "outputs": [
    {
     "name": "stdout",
     "output_type": "stream",
     "text": [
      "['kani', 'tami', 'kavitha', 'moni', 'keerthi', 'pooja', 'kavi', 'kunal']\n"
     ]
    }
   ],
   "source": [
    "students[3]='moni'\n",
    "print(students)"
   ]
  },
  {
   "cell_type": "code",
   "execution_count": null,
   "id": "aeedec2b",
   "metadata": {},
   "outputs": [],
   "source": [
    "to delete:"
   ]
  },
  {
   "cell_type": "code",
   "execution_count": null,
   "id": "2515db5d",
   "metadata": {},
   "outputs": [],
   "source": [
    "1,temp delete:"
   ]
  },
  {
   "cell_type": "code",
   "execution_count": 38,
   "id": "4db3e4bd",
   "metadata": {},
   "outputs": [
    {
     "name": "stdout",
     "output_type": "stream",
     "text": [
      "['kani', 'tami', 'kavitha', 'moni', 'keerthi', 'pooja', 'kavi', 'kunal']\n"
     ]
    }
   ],
   "source": [
    "students=['kani', 'tami', 'kavitha', 'moni', 'keerthi', 'pooja', 'kavi', 'kunal']\n",
    "print(students)"
   ]
  },
  {
   "cell_type": "code",
   "execution_count": 39,
   "id": "20ea2aa3",
   "metadata": {},
   "outputs": [
    {
     "name": "stdout",
     "output_type": "stream",
     "text": [
      "['kani', 'tami', 'kavitha', 'moni', 'keerthi', 'pooja', 'kavi']\n"
     ]
    }
   ],
   "source": [
    "x=students.pop()\n",
    "print(students)"
   ]
  },
  {
   "cell_type": "code",
   "execution_count": 40,
   "id": "fa1d6984",
   "metadata": {},
   "outputs": [
    {
     "name": "stdout",
     "output_type": "stream",
     "text": [
      "kunal\n"
     ]
    }
   ],
   "source": [
    "print(x)"
   ]
  },
  {
   "cell_type": "code",
   "execution_count": 42,
   "id": "763840bc",
   "metadata": {},
   "outputs": [
    {
     "name": "stdout",
     "output_type": "stream",
     "text": [
      "['kani', 'tami', 'kavitha', 'moni', 'keerthi', 'pooja']\n"
     ]
    }
   ],
   "source": [
    "y=students.pop()\n",
    "print(students)"
   ]
  },
  {
   "cell_type": "code",
   "execution_count": 47,
   "id": "96600c6b",
   "metadata": {},
   "outputs": [
    {
     "name": "stdout",
     "output_type": "stream",
     "text": [
      "kavi\n"
     ]
    }
   ],
   "source": [
    "print(y)"
   ]
  },
  {
   "cell_type": "code",
   "execution_count": null,
   "id": "26b25977",
   "metadata": {},
   "outputs": [],
   "source": [
    "2,permanat delete:"
   ]
  },
  {
   "cell_type": "code",
   "execution_count": 43,
   "id": "b6209928",
   "metadata": {},
   "outputs": [
    {
     "name": "stdout",
     "output_type": "stream",
     "text": [
      "['kani', 'tami', 'kavitha', 'moni', 'keerthi', 'pooja']\n"
     ]
    }
   ],
   "source": [
    "students=['kani', 'tami', 'kavitha', 'moni', 'keerthi', 'pooja']\n",
    "print(students)"
   ]
  },
  {
   "cell_type": "code",
   "execution_count": 46,
   "id": "c342294b",
   "metadata": {},
   "outputs": [
    {
     "name": "stdout",
     "output_type": "stream",
     "text": [
      "['kani', 'tami', 'moni', 'keerthi', 'pooja']\n"
     ]
    }
   ],
   "source": [
    "del students[2]\n",
    "print(students)"
   ]
  },
  {
   "cell_type": "code",
   "execution_count": null,
   "id": "20176915",
   "metadata": {},
   "outputs": [],
   "source": []
  }
 ],
 "metadata": {
  "kernelspec": {
   "display_name": "Python 3 (ipykernel)",
   "language": "python",
   "name": "python3"
  },
  "language_info": {
   "codemirror_mode": {
    "name": "ipython",
    "version": 3
   },
   "file_extension": ".py",
   "mimetype": "text/x-python",
   "name": "python",
   "nbconvert_exporter": "python",
   "pygments_lexer": "ipython3",
   "version": "3.11.3"
  }
 },
 "nbformat": 4,
 "nbformat_minor": 5
}
