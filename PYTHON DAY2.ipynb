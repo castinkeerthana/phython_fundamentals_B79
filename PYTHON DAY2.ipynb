{
 "cells": [
  {
   "cell_type": "code",
   "execution_count": null,
   "id": "f4331bd4",
   "metadata": {},
   "outputs": [],
   "source": [
    "variable spaces"
   ]
  },
  {
   "cell_type": "code",
   "execution_count": null,
   "id": "8b13befa",
   "metadata": {},
   "outputs": [],
   "source": []
  },
  {
   "cell_type": "code",
   "execution_count": 10,
   "id": "0482264c",
   "metadata": {},
   "outputs": [
    {
     "name": "stdout",
     "output_type": "stream",
     "text": [
      "keerthana\n"
     ]
    }
   ],
   "source": [
    "first_name='keerthana'\n",
    "print(first_name)"
   ]
  },
  {
   "cell_type": "code",
   "execution_count": 11,
   "id": "11d1680f",
   "metadata": {},
   "outputs": [
    {
     "name": "stdout",
     "output_type": "stream",
     "text": [
      "keerthana\n"
     ]
    }
   ],
   "source": [
    "name2='keerthana'\n",
    "print(name2)"
   ]
  },
  {
   "cell_type": "code",
   "execution_count": null,
   "id": "4eb0403c",
   "metadata": {},
   "outputs": [],
   "source": [
    "string methods:"
   ]
  },
  {
   "cell_type": "code",
   "execution_count": null,
   "id": "5d39bb10",
   "metadata": {},
   "outputs": [],
   "source": [
    "sinle quote:"
   ]
  },
  {
   "cell_type": "code",
   "execution_count": null,
   "id": "365469fd",
   "metadata": {},
   "outputs": [],
   "source": []
  },
  {
   "cell_type": "code",
   "execution_count": 13,
   "id": "8b085aff",
   "metadata": {},
   "outputs": [
    {
     "name": "stdout",
     "output_type": "stream",
     "text": [
      "keerthi\n"
     ]
    }
   ],
   "source": [
    "fullname='keerthi'\n",
    "print(fullname)"
   ]
  },
  {
   "cell_type": "code",
   "execution_count": null,
   "id": "b7477912",
   "metadata": {},
   "outputs": [],
   "source": []
  },
  {
   "cell_type": "code",
   "execution_count": null,
   "id": "7808fe27",
   "metadata": {},
   "outputs": [],
   "source": [
    "double quote:"
   ]
  },
  {
   "cell_type": "code",
   "execution_count": null,
   "id": "c4ba743d",
   "metadata": {},
   "outputs": [],
   "source": []
  },
  {
   "cell_type": "code",
   "execution_count": 14,
   "id": "5c41a813",
   "metadata": {},
   "outputs": [
    {
     "name": "stdout",
     "output_type": "stream",
     "text": [
      "keerhu\n"
     ]
    }
   ],
   "source": [
    "fullname=\"keerhu\"\n",
    "print(fullname)"
   ]
  },
  {
   "cell_type": "code",
   "execution_count": null,
   "id": "0600fcd4",
   "metadata": {},
   "outputs": [],
   "source": [
    "#i want name in small letters:"
   ]
  },
  {
   "cell_type": "code",
   "execution_count": 16,
   "id": "f7406020",
   "metadata": {},
   "outputs": [
    {
     "name": "stdout",
     "output_type": "stream",
     "text": [
      "castin keerthana\n"
     ]
    }
   ],
   "source": [
    "fullname='castin keerthana'\n",
    "print(fullname)"
   ]
  },
  {
   "cell_type": "code",
   "execution_count": 17,
   "id": "c643e697",
   "metadata": {},
   "outputs": [
    {
     "name": "stdout",
     "output_type": "stream",
     "text": [
      "castin keerthana\n"
     ]
    }
   ],
   "source": [
    "print(fullname.lower())"
   ]
  },
  {
   "cell_type": "code",
   "execution_count": 18,
   "id": "e1786b23",
   "metadata": {},
   "outputs": [
    {
     "name": "stdout",
     "output_type": "stream",
     "text": [
      "CASTIN KEERTHANA\n"
     ]
    }
   ],
   "source": [
    "print(fullname.upper())"
   ]
  },
  {
   "cell_type": "code",
   "execution_count": 20,
   "id": "7263afa1",
   "metadata": {},
   "outputs": [
    {
     "name": "stdout",
     "output_type": "stream",
     "text": [
      "Castin Keerthana\n"
     ]
    }
   ],
   "source": [
    "print(fullname.title())"
   ]
  },
  {
   "cell_type": "code",
   "execution_count": null,
   "id": "7975ca0f",
   "metadata": {},
   "outputs": [],
   "source": []
  },
  {
   "cell_type": "code",
   "execution_count": null,
   "id": "22dadace",
   "metadata": {},
   "outputs": [],
   "source": []
  },
  {
   "cell_type": "code",
   "execution_count": null,
   "id": "6dc804d3",
   "metadata": {},
   "outputs": [],
   "source": []
  },
  {
   "cell_type": "code",
   "execution_count": null,
   "id": "df38771e",
   "metadata": {},
   "outputs": [],
   "source": []
  }
 ],
 "metadata": {
  "kernelspec": {
   "display_name": "Python 3 (ipykernel)",
   "language": "python",
   "name": "python3"
  },
  "language_info": {
   "codemirror_mode": {
    "name": "ipython",
    "version": 3
   },
   "file_extension": ".py",
   "mimetype": "text/x-python",
   "name": "python",
   "nbconvert_exporter": "python",
   "pygments_lexer": "ipython3",
   "version": "3.11.3"
  }
 },
 "nbformat": 4,
 "nbformat_minor": 5
}
