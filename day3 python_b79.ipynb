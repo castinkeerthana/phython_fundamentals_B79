{
 "cells": [
  {
   "cell_type": "code",
   "execution_count": null,
   "id": "be10fe9b",
   "metadata": {},
   "outputs": [],
   "source": [
    "string concept:"
   ]
  },
  {
   "cell_type": "code",
   "execution_count": 10,
   "id": "48a79daa",
   "metadata": {},
   "outputs": [
    {
     "name": "stdout",
     "output_type": "stream",
     "text": [
      "castinkeerthana\n"
     ]
    }
   ],
   "source": [
    "firstname='castin'\n",
    "lastname='keerthana'\n",
    "fullname=f\"{firstname}{lastname}\"\n",
    "print(fullname)"
   ]
  },
  {
   "cell_type": "code",
   "execution_count": 16,
   "id": "a0b2d760",
   "metadata": {},
   "outputs": [
    {
     "name": "stdout",
     "output_type": "stream",
     "text": [
      "good at working in python, castinkeerthana\n"
     ]
    }
   ],
   "source": [
    "message=f\"good at working in python, {fullname}\"\n",
    "print(message)"
   ]
  },
  {
   "cell_type": "code",
   "execution_count": 19,
   "id": "3c409663",
   "metadata": {},
   "outputs": [
    {
     "name": "stdout",
     "output_type": "stream",
     "text": [
      "good at working in python,CASTINKEERTHANA\n"
     ]
    }
   ],
   "source": [
    "message=f\"good at working in python,{fullname.upper()}\"\n",
    "print(message)"
   ]
  },
  {
   "cell_type": "code",
   "execution_count": null,
   "id": "de93f1d1",
   "metadata": {},
   "outputs": [],
   "source": []
  },
  {
   "cell_type": "code",
   "execution_count": null,
   "id": "2b95f0fc",
   "metadata": {},
   "outputs": [],
   "source": [
    "adding white spaces:"
   ]
  },
  {
   "cell_type": "code",
   "execution_count": 23,
   "id": "dedfe7af",
   "metadata": {},
   "outputs": [
    {
     "name": "stdout",
     "output_type": "stream",
     "text": [
      "fav_lang:cc++javapython\n"
     ]
    }
   ],
   "source": [
    "print(\"fav_lang:cc++javapython\")"
   ]
  },
  {
   "cell_type": "code",
   "execution_count": 24,
   "id": "0c80b082",
   "metadata": {},
   "outputs": [
    {
     "name": "stdout",
     "output_type": "stream",
     "text": [
      "fav_lang:\n",
      "c\n",
      "c++\n",
      "java\n",
      "python\n"
     ]
    }
   ],
   "source": [
    "print(\"fav_lang:\\nc\\nc++\\njava\\npython\")"
   ]
  },
  {
   "cell_type": "code",
   "execution_count": 25,
   "id": "8bc3fa61",
   "metadata": {},
   "outputs": [
    {
     "name": "stdout",
     "output_type": "stream",
     "text": [
      "fav_lang:\n",
      "\tc\n",
      "\tc++\n",
      "\tjava\n",
      "\tpython\n"
     ]
    }
   ],
   "source": [
    "print(\"fav_lang:\\n\\tc\\n\\tc++\\n\\tjava\\n\\tpython\")"
   ]
  },
  {
   "cell_type": "raw",
   "id": "9b51541a",
   "metadata": {},
   "source": [
    "removing of whote spaces:"
   ]
  },
  {
   "cell_type": "code",
   "execution_count": 31,
   "id": "5ae5e925",
   "metadata": {},
   "outputs": [
    {
     "name": "stdout",
     "output_type": "stream",
     "text": [
      " python\n"
     ]
    }
   ],
   "source": [
    "language=\" python\"\n",
    "print(language)"
   ]
  },
  {
   "cell_type": "code",
   "execution_count": 32,
   "id": "4ce772d2",
   "metadata": {},
   "outputs": [
    {
     "name": "stdout",
     "output_type": "stream",
     "text": [
      "python \n"
     ]
    }
   ],
   "source": [
    "language=\"python \"\n",
    "print(language)"
   ]
  },
  {
   "cell_type": "code",
   "execution_count": 33,
   "id": "da54cfda",
   "metadata": {},
   "outputs": [
    {
     "name": "stdout",
     "output_type": "stream",
     "text": [
      " python \n"
     ]
    }
   ],
   "source": [
    "language=\" python \"\n",
    "print(language)"
   ]
  },
  {
   "cell_type": "code",
   "execution_count": 34,
   "id": "3ca3271a",
   "metadata": {},
   "outputs": [
    {
     "data": {
      "text/plain": [
       "'python '"
      ]
     },
     "execution_count": 34,
     "metadata": {},
     "output_type": "execute_result"
    }
   ],
   "source": [
    "language.lstrip()"
   ]
  },
  {
   "cell_type": "code",
   "execution_count": 35,
   "id": "e534bf3e",
   "metadata": {},
   "outputs": [
    {
     "data": {
      "text/plain": [
       "' python'"
      ]
     },
     "execution_count": 35,
     "metadata": {},
     "output_type": "execute_result"
    }
   ],
   "source": [
    "language.rstrip()"
   ]
  },
  {
   "cell_type": "code",
   "execution_count": 36,
   "id": "7ece2a7d",
   "metadata": {},
   "outputs": [
    {
     "data": {
      "text/plain": [
       "'python'"
      ]
     },
     "execution_count": 36,
     "metadata": {},
     "output_type": "execute_result"
    }
   ],
   "source": [
    "language.strip()"
   ]
  },
  {
   "cell_type": "code",
   "execution_count": null,
   "id": "bf029506",
   "metadata": {},
   "outputs": [],
   "source": []
  }
 ],
 "metadata": {
  "kernelspec": {
   "display_name": "Python 3 (ipykernel)",
   "language": "python",
   "name": "python3"
  },
  "language_info": {
   "codemirror_mode": {
    "name": "ipython",
    "version": 3
   },
   "file_extension": ".py",
   "mimetype": "text/x-python",
   "name": "python",
   "nbconvert_exporter": "python",
   "pygments_lexer": "ipython3",
   "version": "3.11.3"
  }
 },
 "nbformat": 4,
 "nbformat_minor": 5
}
