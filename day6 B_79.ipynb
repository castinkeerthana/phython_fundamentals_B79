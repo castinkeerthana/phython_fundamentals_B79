{
 "cells": [
  {
   "cell_type": "code",
   "execution_count": null,
   "id": "fd25dd49",
   "metadata": {},
   "outputs": [],
   "source": [
    "FOR LOOP:"
   ]
  },
  {
   "cell_type": "code",
   "execution_count": 1,
   "id": "d252a5c8",
   "metadata": {},
   "outputs": [
    {
     "name": "stdout",
     "output_type": "stream",
     "text": [
      "['rani', 'moni', 'keerthi', 'david', 'pooja', 'preeth']\n"
     ]
    }
   ],
   "source": [
    "students=['rani','moni','keerthi','david','pooja','preeth']\n",
    "print(students)"
   ]
  },
  {
   "cell_type": "code",
   "execution_count": 2,
   "id": "9e058b07",
   "metadata": {},
   "outputs": [
    {
     "data": {
      "text/plain": [
       "list"
      ]
     },
     "execution_count": 2,
     "metadata": {},
     "output_type": "execute_result"
    }
   ],
   "source": [
    "type(students)"
   ]
  },
  {
   "cell_type": "code",
   "execution_count": 5,
   "id": "55a9178d",
   "metadata": {},
   "outputs": [
    {
     "name": "stdout",
     "output_type": "stream",
     "text": [
      "keep it up,rani\n",
      "keep it up,moni\n",
      "keep it up,keerthi\n",
      "keep it up,david\n",
      "keep it up,pooja\n",
      "keep it up,preeth\n"
     ]
    }
   ],
   "source": [
    "for x in students:\n",
    "    print(f\"keep it up,{x}\")"
   ]
  },
  {
   "cell_type": "code",
   "execution_count": 6,
   "id": "14239d99",
   "metadata": {},
   "outputs": [
    {
     "name": "stdout",
     "output_type": "stream",
     "text": [
      "keep it up,rani\n",
      "I will be waiting for your github url for review,rani\n",
      "keep it up,moni\n",
      "I will be waiting for your github url for review,moni\n",
      "keep it up,keerthi\n",
      "I will be waiting for your github url for review,keerthi\n",
      "keep it up,david\n",
      "I will be waiting for your github url for review,david\n",
      "keep it up,pooja\n",
      "I will be waiting for your github url for review,pooja\n",
      "keep it up,preeth\n",
      "I will be waiting for your github url for review,preeth\n"
     ]
    }
   ],
   "source": [
    "for x in students:\n",
    "        print(f\"keep it up,{x}\")\n",
    "        print(f\"I will be waiting for your github url for review,{x}\")"
   ]
  },
  {
   "cell_type": "code",
   "execution_count": 7,
   "id": "007e4a5c",
   "metadata": {},
   "outputs": [
    {
     "name": "stdout",
     "output_type": "stream",
     "text": [
      "keep it up,rani\n",
      "I will be waiting for your github url for review,rani\n",
      "\n",
      "keep it up,moni\n",
      "I will be waiting for your github url for review,moni\n",
      "\n",
      "keep it up,keerthi\n",
      "I will be waiting for your github url for review,keerthi\n",
      "\n",
      "keep it up,david\n",
      "I will be waiting for your github url for review,david\n",
      "\n",
      "keep it up,pooja\n",
      "I will be waiting for your github url for review,pooja\n",
      "\n",
      "keep it up,preeth\n",
      "I will be waiting for your github url for review,preeth\n",
      "\n"
     ]
    }
   ],
   "source": [
    "for x in students:\n",
    "        print(f\"keep it up,{x}\")\n",
    "        print(f\"I will be waiting for your github url for review,{x}\\n\")"
   ]
  },
  {
   "cell_type": "code",
   "execution_count": null,
   "id": "0670e64f",
   "metadata": {},
   "outputs": [],
   "source": []
  },
  {
   "cell_type": "code",
   "execution_count": null,
   "id": "dc08e606",
   "metadata": {},
   "outputs": [],
   "source": [
    "TUPLE:"
   ]
  },
  {
   "cell_type": "code",
   "execution_count": 18,
   "id": "5c74cdba",
   "metadata": {},
   "outputs": [
    {
     "name": "stdout",
     "output_type": "stream",
     "text": [
      "(200, 50)\n"
     ]
    }
   ],
   "source": [
    "dimensions=(200,50)\n",
    "print(dimensions)"
   ]
  },
  {
   "cell_type": "code",
   "execution_count": 20,
   "id": "6bf4b3a9",
   "metadata": {},
   "outputs": [
    {
     "name": "stdout",
     "output_type": "stream",
     "text": [
      "50\n"
     ]
    }
   ],
   "source": [
    "print(dimensions[1])"
   ]
  },
  {
   "cell_type": "code",
   "execution_count": 21,
   "id": "e07c14dc",
   "metadata": {},
   "outputs": [
    {
     "name": "stdout",
     "output_type": "stream",
     "text": [
      "200\n"
     ]
    }
   ],
   "source": [
    "print(dimensions[0])"
   ]
  },
  {
   "cell_type": "code",
   "execution_count": null,
   "id": "cfaaad10",
   "metadata": {},
   "outputs": [],
   "source": []
  },
  {
   "cell_type": "code",
   "execution_count": null,
   "id": "f6c72d6e",
   "metadata": {},
   "outputs": [],
   "source": []
  }
 ],
 "metadata": {
  "kernelspec": {
   "display_name": "Python 3 (ipykernel)",
   "language": "python",
   "name": "python3"
  },
  "language_info": {
   "codemirror_mode": {
    "name": "ipython",
    "version": 3
   },
   "file_extension": ".py",
   "mimetype": "text/x-python",
   "name": "python",
   "nbconvert_exporter": "python",
   "pygments_lexer": "ipython3",
   "version": "3.11.3"
  }
 },
 "nbformat": 4,
 "nbformat_minor": 5
}
