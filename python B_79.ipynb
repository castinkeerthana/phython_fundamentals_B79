{
 "cells": [
  {
   "cell_type": "code",
   "execution_count": null,
   "id": "bb4c679d",
   "metadata": {},
   "outputs": [],
   "source": [
    "dict:"
   ]
  },
  {
   "cell_type": "code",
   "execution_count": null,
   "id": "35665072",
   "metadata": {},
   "outputs": [],
   "source": []
  },
  {
   "cell_type": "code",
   "execution_count": 1,
   "id": "c731a32c",
   "metadata": {},
   "outputs": [],
   "source": [
    "alien={'colour':'pink','points':'s'}"
   ]
  },
  {
   "cell_type": "code",
   "execution_count": 2,
   "id": "03739d25",
   "metadata": {},
   "outputs": [
    {
     "name": "stdout",
     "output_type": "stream",
     "text": [
      "{'colour': 'pink', 'points': 's'}\n"
     ]
    }
   ],
   "source": [
    "print(alien)"
   ]
  },
  {
   "cell_type": "code",
   "execution_count": 3,
   "id": "f93c4e91",
   "metadata": {},
   "outputs": [],
   "source": [
    "alien['start_position']='0'"
   ]
  },
  {
   "cell_type": "code",
   "execution_count": 5,
   "id": "09122e42",
   "metadata": {},
   "outputs": [
    {
     "name": "stdout",
     "output_type": "stream",
     "text": [
      "{'colour': 'pink', 'points': 's', 'start_position': 0}\n"
     ]
    }
   ],
   "source": [
    "print(alien)"
   ]
  },
  {
   "cell_type": "code",
   "execution_count": 6,
   "id": "0d76ce97",
   "metadata": {},
   "outputs": [],
   "source": [
    "alien['start_position']='2'"
   ]
  },
  {
   "cell_type": "code",
   "execution_count": 7,
   "id": "7c43daad",
   "metadata": {},
   "outputs": [
    {
     "name": "stdout",
     "output_type": "stream",
     "text": [
      "{'colour': 'pink', 'points': 's', 'start_position': '2'}\n"
     ]
    }
   ],
   "source": [
    "print(alien)"
   ]
  },
  {
   "cell_type": "code",
   "execution_count": 8,
   "id": "b9f3dade",
   "metadata": {},
   "outputs": [
    {
     "name": "stdout",
     "output_type": "stream",
     "text": [
      "pink\n"
     ]
    }
   ],
   "source": [
    "print(alien['colour'])"
   ]
  },
  {
   "cell_type": "code",
   "execution_count": 9,
   "id": "bd64a993",
   "metadata": {},
   "outputs": [],
   "source": [
    "alien['level']='1'"
   ]
  },
  {
   "cell_type": "code",
   "execution_count": 10,
   "id": "6401354c",
   "metadata": {},
   "outputs": [
    {
     "name": "stdout",
     "output_type": "stream",
     "text": [
      "{'colour': 'pink', 'points': 's', 'start_position': '2', 'level': '1'}\n"
     ]
    }
   ],
   "source": [
    "print(alien)"
   ]
  },
  {
   "cell_type": "code",
   "execution_count": 11,
   "id": "a272c255",
   "metadata": {},
   "outputs": [],
   "source": [
    "alien['colour']='yellow'"
   ]
  },
  {
   "cell_type": "code",
   "execution_count": 12,
   "id": "1fcd1617",
   "metadata": {},
   "outputs": [
    {
     "name": "stdout",
     "output_type": "stream",
     "text": [
      "{'colour': 'yellow', 'points': 's', 'start_position': '2', 'level': '1'}\n"
     ]
    }
   ],
   "source": [
    "print(alien)"
   ]
  },
  {
   "cell_type": "code",
   "execution_count": 23,
   "id": "a4a9f8b3",
   "metadata": {},
   "outputs": [
    {
     "name": "stdout",
     "output_type": "stream",
     "text": [
      "{'colour': 'yellow', 'points': 's', 'start_position': '2', 'level': '1'}\n"
     ]
    }
   ],
   "source": [
    "alien={'colour': 'yellow', 'points': 's', 'start_position': '2', 'level': '1'}\n",
    "print(alien)"
   ]
  },
  {
   "cell_type": "code",
   "execution_count": 26,
   "id": "72d9c666",
   "metadata": {},
   "outputs": [
    {
     "name": "stdout",
     "output_type": "stream",
     "text": [
      "colour\n",
      "yellow\n",
      "points\n",
      "s\n",
      "start_position\n",
      "2\n",
      "level\n",
      "1\n"
     ]
    }
   ],
   "source": [
    "for k,v in alien.items():\n",
    "    print(k)\n",
    "    print(v)"
   ]
  },
  {
   "cell_type": "code",
   "execution_count": 30,
   "id": "becb1332",
   "metadata": {},
   "outputs": [
    {
     "name": "stdout",
     "output_type": "stream",
     "text": [
      "key:colour\n",
      "value:yellow\n",
      "key:points\n",
      "value:s\n",
      "key:start_position\n",
      "value:2\n",
      "key:level\n",
      "value:1\n"
     ]
    }
   ],
   "source": [
    "for k,v in alien.items():\n",
    "    print(f\"key:{k}\")\n",
    "    print(f\"value:{v}\")"
   ]
  },
  {
   "cell_type": "code",
   "execution_count": 37,
   "id": "0acd4c14",
   "metadata": {},
   "outputs": [
    {
     "name": "stdout",
     "output_type": "stream",
     "text": [
      "{'30/11/1999', 'castin', 'password'}\n"
     ]
    }
   ],
   "source": [
    "user_name={'castin','30/11/1999','password'}\n",
    "print(user_name)"
   ]
  }
 ],
 "metadata": {
  "kernelspec": {
   "display_name": "Python 3 (ipykernel)",
   "language": "python",
   "name": "python3"
  },
  "language_info": {
   "codemirror_mode": {
    "name": "ipython",
    "version": 3
   },
   "file_extension": ".py",
   "mimetype": "text/x-python",
   "name": "python",
   "nbconvert_exporter": "python",
   "pygments_lexer": "ipython3",
   "version": "3.11.3"
  }
 },
 "nbformat": 4,
 "nbformat_minor": 5
}
