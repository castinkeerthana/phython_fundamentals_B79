{
 "cells": [
  {
   "cell_type": "code",
   "execution_count": 5,
   "id": "78fe942e",
   "metadata": {},
   "outputs": [],
   "source": [
    "def greet_user():\n",
    "    \"\"\"creating a greet function\"\"\"\n",
    "    print('hello')"
   ]
  },
  {
   "cell_type": "code",
   "execution_count": 6,
   "id": "a39d18fc",
   "metadata": {},
   "outputs": [
    {
     "name": "stdout",
     "output_type": "stream",
     "text": [
      "hello\n"
     ]
    }
   ],
   "source": [
    "greet_user()"
   ]
  },
  {
   "cell_type": "code",
   "execution_count": 12,
   "id": "60a4aecb",
   "metadata": {},
   "outputs": [],
   "source": [
    "def greet_user(username):\n",
    "    \"\"\"creating a greet function\"\"\"\n",
    "    print(f\"hello,{username}\")"
   ]
  },
  {
   "cell_type": "code",
   "execution_count": 13,
   "id": "4d6d20d0",
   "metadata": {},
   "outputs": [
    {
     "name": "stdout",
     "output_type": "stream",
     "text": [
      "hello,keerthi\n"
     ]
    }
   ],
   "source": [
    "greet_user('keerthi')"
   ]
  },
  {
   "cell_type": "code",
   "execution_count": 24,
   "id": "e2a60c92",
   "metadata": {},
   "outputs": [],
   "source": [
    "def describe_pet(animal_type,pet_name):\n",
    "    \"\"\"creating a describe pet function\"\"\"\n",
    "    print(f\"i have a {animal_type}\")\n",
    "    print(f\"my {animal_type}'s name is {pet_name}\")"
   ]
  },
  {
   "cell_type": "code",
   "execution_count": 26,
   "id": "001a4052",
   "metadata": {},
   "outputs": [
    {
     "name": "stdout",
     "output_type": "stream",
     "text": [
      "i have a dog\n",
      "my dog's name is jujuu\n"
     ]
    }
   ],
   "source": [
    "describe_pet('dog','jujuu')"
   ]
  },
  {
   "cell_type": "code",
   "execution_count": 27,
   "id": "81eec138",
   "metadata": {},
   "outputs": [
    {
     "name": "stdout",
     "output_type": "stream",
     "text": [
      "i have a nikki\n",
      "my nikki's name is cat\n"
     ]
    }
   ],
   "source": [
    "describe_pet('nikki','cat')"
   ]
  },
  {
   "cell_type": "code",
   "execution_count": 30,
   "id": "3a5efd15",
   "metadata": {},
   "outputs": [
    {
     "name": "stdout",
     "output_type": "stream",
     "text": [
      "i have a cat\n",
      "my cat's name is jujuu\n"
     ]
    }
   ],
   "source": [
    "describe_pet(animal_type='cat',pet_name='jujuu')"
   ]
  },
  {
   "cell_type": "code",
   "execution_count": 41,
   "id": "8ba77559",
   "metadata": {},
   "outputs": [],
   "source": [
    "def make_pizza(toppings):\n",
    "    \"\"\"\"creating a fnction to capture the toppings ordered\"\"\"\n",
    "    print(f\"order of {toppings}\")"
   ]
  },
  {
   "cell_type": "code",
   "execution_count": 42,
   "id": "a4da310a",
   "metadata": {},
   "outputs": [
    {
     "name": "stdout",
     "output_type": "stream",
     "text": [
      "order of onion\n"
     ]
    }
   ],
   "source": [
    "make_pizza('onion')"
   ]
  },
  {
   "cell_type": "code",
   "execution_count": 43,
   "id": "3709ba8f",
   "metadata": {},
   "outputs": [],
   "source": [
    "def make_pizza(*toppings):\n",
    "    \"\"\"\"creating a fnction to capture the toppings ordered\"\"\"\n",
    "    print(f\"order of {toppings}\")\n"
   ]
  },
  {
   "cell_type": "code",
   "execution_count": 44,
   "id": "80b0f527",
   "metadata": {},
   "outputs": [
    {
     "name": "stdout",
     "output_type": "stream",
     "text": [
      "order of ('pepper', 'tomato')\n"
     ]
    }
   ],
   "source": [
    "make_pizza('pepper','tomato')"
   ]
  }
 ],
 "metadata": {
  "kernelspec": {
   "display_name": "Python 3 (ipykernel)",
   "language": "python",
   "name": "python3"
  },
  "language_info": {
   "codemirror_mode": {
    "name": "ipython",
    "version": 3
   },
   "file_extension": ".py",
   "mimetype": "text/x-python",
   "name": "python",
   "nbconvert_exporter": "python",
   "pygments_lexer": "ipython3",
   "version": "3.11.3"
  }
 },
 "nbformat": 4,
 "nbformat_minor": 5
}
